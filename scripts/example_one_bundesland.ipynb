{
 "cells": [
  {
   "cell_type": "markdown",
   "metadata": {},
   "source": [
    "# Example for one region (bundesland)"
   ]
  },
  {
   "cell_type": "markdown",
   "metadata": {},
   "source": [
    "The first thing we need to do is import some essential stuff. Theses have to be installed and are prerequisites."
   ]
  },
  {
   "cell_type": "code",
   "execution_count": null,
   "metadata": {},
   "outputs": [],
   "source": [
    "import datetime\n",
    "import time as time_module\n",
    "import sys\n",
    "import os \n",
    "\n",
    "import pandas as pd\n",
    "import numpy as np\n",
    "import matplotlib.pyplot as plt\n",
    "import scipy.stats\n",
    "import theano\n",
    "import matplotlib\n",
    "import pymc3 as pm\n",
    "import theano.tensor as tt"
   ]
  },
  {
   "cell_type": "markdown",
   "metadata": {},
   "source": [
    "Now to the fun stuff, we import our module!"
   ]
  },
  {
   "cell_type": "code",
   "execution_count": null,
   "metadata": {},
   "outputs": [],
   "source": [
    "try: \n",
    "    import covid19_inference as cov19\n",
    "except ModuleNotFoundError:\n",
    "    sys.path.append('..')\n",
    "    import covid19_inference as cov19\n",
    "    %load_ext autoreload\n",
    "    %autoreload 2"
   ]
  },
  {
   "cell_type": "markdown",
   "metadata": {},
   "source": [
    "The next thing we want to do is load a dataset from somewhere. For now there are two different sources i.e. the robert koch institute and the johns hopkins university. We will chose the rki for now!"
   ]
  },
  {
   "cell_type": "code",
   "execution_count": null,
   "metadata": {},
   "outputs": [],
   "source": [
    "rki = cov19.data_retrieval.RKI()\n",
    "#It is important to download the dataset!\n",
    "#One could also parse true to the constructor of the class to force an auto download\n",
    "rki.download_all_available_data() "
   ]
  },
  {
   "cell_type": "markdown",
   "metadata": {},
   "source": [
    "Wait for the download to finish. It will print a message!\n",
    "\n",
    "We can now access this downloaded data by the attribute\n",
    "```\n",
    "rki.data\n",
    "```\n",
    "but normaly one would use the build in filter methods.\n",
    "For example one could use\n",
    "```\n",
    "rki.get_confirmed()\n",
    "rki.get_deaths()\n",
    "rki.get_recovered()\n",
    "```\n",
    "to get different cases. One could also filter the output, possible args are: bundesland, landkreis, begin_date, end_date, date_type."
   ]
  },
  {
   "cell_type": "code",
   "execution_count": null,
   "metadata": {},
   "outputs": [],
   "source": [
    "total_cases = rki.get_confirmed(bundesland=\"Sachsen\",begin_date='2020-03-10',end_date='2020-04-13')\n",
    "new_cases = np.diff(np.array(total_cases))\n",
    "date_begin_data = datetime.datetime(2020,3,10)\n",
    "date_end_data   = datetime.datetime(2020,4,13)\n",
    "diff_data_sim = 16 # should be significantly larger than the expected delay, in \n",
    "                   # order to always fit the same number of data points.\n",
    "num_days_forecast = 10\n",
    "\n",
    "prior_date_mild_dist_begin =  datetime.datetime(2020,3,9)\n",
    "prior_date_strong_dist_begin =  datetime.datetime(2020,3,16)\n",
    "prior_date_contact_ban_begin =  datetime.datetime(2020,3,23)\n",
    "\n",
    "change_points = [dict(pr_mean_date_transient = prior_date_mild_dist_begin,\n",
    "                      pr_sigma_date_transient = 6,\n",
    "                      pr_median_lambda = 0.2,\n",
    "                      pr_sigma_lambda = 1),\n",
    "                 dict(pr_mean_date_transient = prior_date_strong_dist_begin,\n",
    "                      pr_sigma_date_transient = 6,\n",
    "                      pr_median_lambda = 1/8,\n",
    "                      pr_sigma_lambda = 1),\n",
    "                 dict(pr_mean_date_transient = prior_date_contact_ban_begin,\n",
    "                      pr_sigma_date_transient = 6,\n",
    "                      pr_median_lambda = 1/8/2,\n",
    "                      pr_sigma_lambda = 1)]"
   ]
  },
  {
   "cell_type": "markdown",
   "metadata": {},
   "source": [
    "\n"
   ]
  },
  {
   "cell_type": "code",
   "execution_count": null,
   "metadata": {},
   "outputs": [],
   "source": [
    "print(new_cases.shape)"
   ]
  },
  {
   "cell_type": "code",
   "execution_count": null,
   "metadata": {},
   "outputs": [],
   "source": [
    "#print(model.ndim_sim)\n",
    "#print(model.shape_sim)\n",
    "#print(model.df_bundesland.shape)\n",
    "#print(new_cases_inferred.ndim)\n",
    "#print(new_cases_inferred_raw.ndim)\n",
    "#print(new_I_t.ndim)\n",
    "#print(lambda_t_log.ndim)"
   ]
  },
  {
   "cell_type": "code",
   "execution_count": null,
   "metadata": {},
   "outputs": [],
   "source": [
    "params_model = dict(new_cases_obs = new_cases_obs[:,0],\n",
    "                    date_begin_data = date_begin_data,\n",
    "                    num_days_forecast = num_days_forecast,\n",
    "                    diff_data_sim = diff_data_sim,\n",
    "                    N_population = 83e6) \n",
    "\n",
    "\n",
    "with cov19.Cov19_Model(**params_model) as model:\n",
    "    \n",
    "    lambda_t_log = cov19.lambda_t_with_sigmoids(pr_median_lambda_0 = 0.4,\n",
    "                                                change_points_list = change_points)\n",
    "    \n",
    "    new_I_t = cov19.SIR(lambda_t_log, pr_median_mu=1/8)\n",
    "    \n",
    "    new_cases_inferred_raw = cov19.delay_cases(new_I_t, pr_median_delay=10, \n",
    "                                               pr_median_scale_delay=0.3)\n",
    "    \n",
    "    new_cases_inferred = cov19.week_modulation(new_cases_inferred_raw)\n",
    "    \n",
    "    cov19.student_t_likelihood(new_cases_inferred)\n"
   ]
  },
  {
   "cell_type": "code",
   "execution_count": null,
   "metadata": {},
   "outputs": [],
   "source": [
    "trace = pm.sample(model=model, tune=500, draws=500, init='advi+adapt_diag')"
   ]
  },
  {
   "cell_type": "code",
   "execution_count": null,
   "metadata": {},
   "outputs": [],
   "source": [
    "varnames = cov19.plotting.get_all_free_RVs_names(model)\n",
    "num_cols = 5\n",
    "num_rows = int(np.ceil(len(varnames)/num_cols))\n",
    "x_size = num_cols * 2.5\n",
    "y_size = num_rows * 2.5\n",
    "\n",
    "fig, axes = plt.subplots(num_rows, num_cols, figsize = (x_size, y_size),squeeze=False)\n",
    "i_ax = 0\n",
    "for i_row, axes_row in enumerate(axes):\n",
    "    for i_col, ax in enumerate(axes_row):\n",
    "        if i_ax >= len(varnames):\n",
    "            ax.set_visible(False)\n",
    "            continue \n",
    "        else:\n",
    "            cov19.plotting.plot_hist(model, trace, ax, varnames[i_ax], \n",
    "                                     colors=('tab:blue', 'tab:green'))\n",
    "        if not i_col == 0:\n",
    "            ax.set_ylabel('')\n",
    "        if i_col == 0 and i_row == 0:\n",
    "            ax.legend()\n",
    "        i_ax += 1\n",
    "fig.subplots_adjust(wspace=0.25, hspace=0.4)\n"
   ]
  },
  {
   "cell_type": "code",
   "execution_count": null,
   "metadata": {},
   "outputs": [],
   "source": [
    "plt.plot(np.median(trace.new_cases, axis=0))\n",
    "plt.plot(new_cases_obs[:,0])"
   ]
  },
  {
   "cell_type": "code",
   "execution_count": null,
   "metadata": {},
   "outputs": [],
   "source": []
  }
 ],
 "metadata": {
  "kernelspec": {
   "display_name": "Python 3",
   "language": "python",
   "name": "python3"
  },
  "language_info": {
   "codemirror_mode": {
    "name": "ipython",
    "version": 3
   },
   "file_extension": ".py",
   "mimetype": "text/x-python",
   "name": "python",
   "nbconvert_exporter": "python",
   "pygments_lexer": "ipython3",
   "version": "3.7.6"
  }
 },
 "nbformat": 4,
 "nbformat_minor": 4
}
