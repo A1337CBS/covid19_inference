{
 "cells": [
  {
   "cell_type": "code",
   "execution_count": null,
   "metadata": {
    "scrolled": true
   },
   "outputs": [],
   "source": [
    "import datetime\n",
    "import time as time_module\n",
    "import sys\n",
    "import os \n",
    "\n",
    "import pandas as pd\n",
    "import numpy as np\n",
    "import matplotlib.pyplot as plt\n",
    "import scipy.stats\n",
    "import theano\n",
    "import matplotlib\n",
    "import pymc3 as pm\n",
    "import theano.tensor as tt\n",
    "\n",
    "try: \n",
    "    import covid19_inference as cov19\n",
    "except ModuleNotFoundError:\n",
    "    sys.path.append('..')\n",
    "    import covid19_inference as cov19\n",
    "\n"
   ]
  },
  {
   "cell_type": "markdown",
   "metadata": {},
   "source": [
    "First we load the desired data from a source we also need to tell the class to download the data"
   ]
  },
  {
   "cell_type": "markdown",
   "metadata": {},
   "source": [
    "## Data retrieval"
   ]
  },
  {
   "cell_type": "code",
   "execution_count": null,
   "metadata": {
    "scrolled": true
   },
   "outputs": [],
   "source": [
    "rki = cov19.data_retrieval.RKI(True)\n",
    "#rki.download_all_available_data() #True argument above does this\n"
   ]
  },
  {
   "cell_type": "markdown",
   "metadata": {},
   "source": [
    "Wait for the download to finish. It will print a message!\n",
    "\n",
    "We can now access this downloaded data by the attribute but normaly one would use the build in filter methods.\n",
    "```\n",
    "rki.data\n",
    "```\n",
    "More infos on the data retrieval can be found in the [documentation](https://covid19-inference.readthedocs.io/en/latest/doc/data_retrieval.html)."
   ]
  },
  {
   "cell_type": "markdown",
   "metadata": {},
   "source": [
    "## Create the model"
   ]
  },
  {
   "cell_type": "code",
   "execution_count": null,
   "metadata": {
    "scrolled": true
   },
   "outputs": [],
   "source": [
    "date_begin_data = datetime.datetime(2020,3,10)\n",
    "date_end_data   = datetime.datetime(2020,4,19)\n",
    "\n",
    "df_bundeslaender = rki.filter_all_bundesland(date_begin_data, date_end_data)\n",
    "new_cases_obs = np.diff(np.array(df_bundeslaender),axis=0)[:,:]\n",
    "\n",
    "diff_data_sim = 16 # should be significantly larger than the expected delay, in \n",
    "                   # order to always fit the same number of data points.\n",
    "num_days_forecast = 10\n",
    "\n",
    "\n",
    "# Change points\n",
    "prior_date_mild_dist_begin =  datetime.datetime(2020,3,11)\n",
    "prior_date_strong_dist_begin =  datetime.datetime(2020,3,18)\n",
    "prior_date_contact_ban_begin =  datetime.datetime(2020,3,25)\n",
    "\n",
    "change_points = [dict(pr_mean_date_transient = prior_date_mild_dist_begin,\n",
    "                      pr_sigma_date_transient = 1.5,\n",
    "                      pr_median_lambda = 0.2,\n",
    "                      pr_sigma_lambda = 0.5,\n",
    "                     pr_sigma_transient_len=0.5),\n",
    "                 dict(pr_mean_date_transient = prior_date_strong_dist_begin,\n",
    "                      pr_sigma_date_transient = 1.5,\n",
    "                      pr_median_lambda = 1/8,\n",
    "                      pr_sigma_lambda = 0.5,\n",
    "                     pr_sigma_transient_len=0.5),\n",
    "                 dict(pr_mean_date_transient = prior_date_contact_ban_begin,\n",
    "                      pr_sigma_date_transient = 1.5,\n",
    "                      pr_median_lambda = 1/8/2,\n",
    "                      pr_sigma_lambda = 0.5,\n",
    "                     pr_sigma_transient_len=0.5)];"
   ]
  },
  {
   "cell_type": "code",
   "execution_count": null,
   "metadata": {
    "scrolled": true
   },
   "outputs": [],
   "source": [
    "params_model = dict(new_cases_obs = new_cases_obs[:],\n",
    "                    data_begin = date_begin_data,\n",
    "                    fcast_len = num_days_forecast,\n",
    "                    diff_data_sim = diff_data_sim,\n",
    "                    N_population = 83e6) \n",
    "# normally one would put as N_population an array with the number of inhabitants of \n",
    "# of each state\n",
    "\n",
    "with cov19.Cov19Model(**params_model) as model:\n",
    "    # Create the an array of the time dependent infection rate lambda\n",
    "    lambda_t_log = cov19.lambda_t_with_sigmoids(pr_median_lambda_0 = 0.4, pr_sigma_lambda_0 = 0.5,\n",
    "                                                change_points_list = change_points)\n",
    "    \n",
    "    pr_median_delay = 10\n",
    "    mu = pm.Lognormal(name=\"mu\", mu=np.log(1/8), sigma=0.2)\n",
    "    \n",
    "    # This builds a decorrelated prior for I_begin for faster inference. \n",
    "    # It is not necessary to use it, one can simply remove it and use the default argument \n",
    "    # for pr_I_begin in cov19.SIR\n",
    "    prior_I = cov19.make_prior_I(lambda_t_log, mu, pr_median_delay = pr_median_delay)\n",
    "    \n",
    "    # Use lambda_t_log and mu to run the SIR model\n",
    "    new_I_t = cov19.SIR(lambda_t_log, mu, pr_I_begin = prior_I)\n",
    "    \n",
    "    # Delay the cases by a lognormal reporting delay    \n",
    "    new_cases_inferred_raw = cov19.delay_cases(new_I_t, pr_median_delay=pr_median_delay, \n",
    "                                               pr_median_scale_delay=0.3)\n",
    "    \n",
    "    # Modulate the inferred cases by a abs(sin(x)) function, to account for weekend effects\n",
    "    new_cases_inferred = cov19.week_modulation(new_cases_inferred_raw)\n",
    "    \n",
    "    # Define the likelihood, uses the new_cases_obs set as model parameter\n",
    "    cov19.student_t_likelihood(new_cases_inferred)\n"
   ]
  },
  {
   "cell_type": "markdown",
   "metadata": {},
   "source": [
    "## MCMC sampling"
   ]
  },
  {
   "cell_type": "code",
   "execution_count": null,
   "metadata": {
    "scrolled": true
   },
   "outputs": [],
   "source": [
    "trace = pm.sample(model=model, tune=1000, draws=1000, init='advi+adapt_diag')"
   ]
  },
  {
   "cell_type": "markdown",
   "metadata": {},
   "source": [
    "# Plotting"
   ]
  },
  {
   "cell_type": "code",
   "execution_count": null,
   "metadata": {},
   "outputs": [],
   "source": [
    "varnames = cov19.plotting.get_all_free_RVs_names(model)\n",
    "num_cols = 5\n",
    "num_rows = int(np.ceil(len(varnames)/num_cols))\n",
    "x_size = num_cols * 2.5\n",
    "y_size = num_rows * 2.5\n",
    "\n",
    "fig, axes = plt.subplots(num_rows, num_cols, figsize = (x_size, y_size),squeeze=False)\n",
    "i_ax = 0\n",
    "for i_row, axes_row in enumerate(axes):\n",
    "    for i_col, ax in enumerate(axes_row):\n",
    "        if i_ax >= len(varnames):\n",
    "            ax.set_visible(False)\n",
    "            continue \n",
    "        else:\n",
    "            cov19.plotting.plot_hist(model, trace, ax, varnames[i_ax], \n",
    "                                     colors=('tab:blue', 'tab:green'))\n",
    "        if not i_col == 0:\n",
    "            ax.set_ylabel('')\n",
    "        if i_col == 0 and i_row == 0:\n",
    "            ax.legend()\n",
    "        i_ax += 1\n",
    "fig.subplots_adjust(wspace=0.25, hspace=0.4)"
   ]
  },
  {
   "cell_type": "code",
   "execution_count": null,
   "metadata": {},
   "outputs": [],
   "source": [
    "for var_name in ['lambda_0_L2', 'lambda_1_L2', 'lambda_2_L2', 'lambda_3_L2',\n",
    "                 'transient_day_1_L2', 'transient_day_2_L2', 'transient_day_3_L2', 'delay_L2']:\n",
    "    f, ax = plt.subplots()\n",
    "    ax.violinplot(trace[var_name], showextrema=False, vert=False)\n",
    "    ax.set_yticks(np.arange(1,17))\n",
    "    ax.set_yticklabels(df_bundeslaender.columns)\n",
    "    ax.set_xlabel(var_name)"
   ]
  },
  {
   "cell_type": "markdown",
   "metadata": {},
   "source": [
    "### Plot\n",
    "We first define the x range on which we want to plot. Should be within the simulation period."
   ]
  },
  {
   "cell_type": "code",
   "execution_count": null,
   "metadata": {
    "scrolled": true
   },
   "outputs": [],
   "source": [
    "bd = datetime.datetime(2020,3,10)\n",
    "ed = datetime.datetime(2020,4,19) + datetime.timedelta(days=num_days_forecast-1)"
   ]
  },
  {
   "cell_type": "markdown",
   "metadata": {},
   "source": [
    "Next we have to get our trace corresponding to that date range. We do that by calling the helper function `cov19.plot._get_array_from_trace_via_date()`."
   ]
  },
  {
   "cell_type": "code",
   "execution_count": null,
   "metadata": {
    "scrolled": true
   },
   "outputs": [],
   "source": [
    "y_all_regions, x = cov19.plot._get_array_from_trace_via_date(model,trace,\"new_cases\",bd,ed)\n"
   ]
  },
  {
   "cell_type": "markdown",
   "metadata": {},
   "source": [
    "Depending on which trace variable we want to plot we have to look at the shape and maybe reshape it to match date length and maybe also sort the regions. Also the plot function wants a one dimensional array.\n",
    "\n",
    "After that we plot the timeseries. And set the format of the date axis."
   ]
  },
  {
   "cell_type": "code",
   "execution_count": null,
   "metadata": {
    "scrolled": true
   },
   "outputs": [],
   "source": [
    "trace.varnames"
   ]
  },
  {
   "cell_type": "code",
   "execution_count": null,
   "metadata": {
    "scrolled": false
   },
   "outputs": [],
   "source": [
    "for i in range(16):\n",
    "    y = y_all_regions[:,:,i]\n",
    "    ax = cov19.plot._timeseries(x,y)\n",
    "    ax.set_title(df_bundeslaender.columns[i])\n",
    "    cov19.plot._format_date_xticks(ax)\n",
    "plt.show()"
   ]
  },
  {
   "cell_type": "code",
   "execution_count": null,
   "metadata": {},
   "outputs": [],
   "source": []
  }
 ],
 "metadata": {
  "kernelspec": {
   "display_name": "Python 3",
   "language": "python",
   "name": "python3"
  },
  "language_info": {
   "codemirror_mode": {
    "name": "ipython",
    "version": 3
   },
   "file_extension": ".py",
   "mimetype": "text/x-python",
   "name": "python",
   "nbconvert_exporter": "python",
   "pygments_lexer": "ipython3",
   "version": "3.7.6"
  },
  "pycharm": {
   "stem_cell": {
    "cell_type": "raw",
    "metadata": {
     "collapsed": false
    },
    "source": []
   }
  }
 },
 "nbformat": 4,
 "nbformat_minor": 4
}