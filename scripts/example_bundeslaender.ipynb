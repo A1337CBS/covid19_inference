{
 "cells": [
  {
   "cell_type": "code",
   "execution_count": null,
   "metadata": {},
   "outputs": [],
   "source": [
    "import datetime\n",
    "import time as time_module\n",
    "import sys\n",
    "import os \n",
    "\n",
    "import pandas as pd\n",
    "import numpy as np\n",
    "import matplotlib.pyplot as plt\n",
    "import scipy.stats\n",
    "import theano\n",
    "import matplotlib\n",
    "import pymc3 as pm\n",
    "import theano.tensor as tt\n",
    "\n",
    "try: \n",
    "    import covid19_inference as cov19\n",
    "except ModuleNotFoundError:\n",
    "    sys.path.append('..')\n",
    "    import covid19_inference as cov19\n",
    "\n"
   ]
  },
  {
   "cell_type": "markdown",
   "metadata": {},
   "source": [
    "First we load the desired data from a source we also need to tell the class to download the data"
   ]
  },
  {
   "cell_type": "code",
   "execution_count": null,
   "metadata": {},
   "outputs": [],
   "source": [
    "rki = cov19.data_retrieval.Rki()\n",
    "rki.download_all_available_data()"
   ]
  },
  {
   "cell_type": "markdown",
   "metadata": {},
   "source": [
    "Wait for the download to finish. It will print a message!\n",
    "\n",
    "We can now access this downloaded data by the attribute but normaly one would use the build in filter methods.\n",
    "```\n",
    "rki.data\n",
    "```"
   ]
  },
  {
   "cell_type": "code",
   "execution_count": null,
   "metadata": {},
   "outputs": [],
   "source": [
    "df_bundeslaender = rki.filter_all_bundesland('2020-03-10', '2020-04-13')\n",
    "new_cases_obs = np.diff(np.array(df_bundeslaender),axis=0)[:,:]\n",
    "\n",
    "\n",
    "date_begin_data = datetime.datetime(2020,3,10)\n",
    "date_end_data   = datetime.datetime(2020,3,13)\n",
    "diff_data_sim = 16 # should be significantly larger than the expected delay, in \n",
    "                   # order to always fit the same number of data points.\n",
    "num_days_forecast = 10\n",
    "\n",
    "prior_date_mild_dist_begin =  datetime.datetime(2020,3,9)\n",
    "prior_date_strong_dist_begin =  datetime.datetime(2020,3,16)\n",
    "prior_date_contact_ban_begin =  datetime.datetime(2020,3,23)\n",
    "\n",
    "change_points = [dict(pr_mean_date_transient = prior_date_mild_dist_begin,\n",
    "                      pr_sigma_date_transient = 6,\n",
    "                      pr_median_lambda = 0.2,\n",
    "                      pr_sigma_lambda = 1),\n",
    "                 dict(pr_mean_date_transient = prior_date_strong_dist_begin,\n",
    "                      pr_sigma_date_transient = 6,\n",
    "                      pr_median_lambda = 1/8,\n",
    "                      pr_sigma_lambda = 1),\n",
    "                 dict(pr_mean_date_transient = prior_date_contact_ban_begin,\n",
    "                      pr_sigma_date_transient = 6,\n",
    "                      pr_median_lambda = 1/8/2,\n",
    "                      pr_sigma_lambda = 1)]"
   ]
  },
  {
   "cell_type": "code",
   "execution_count": null,
   "metadata": {},
   "outputs": [],
   "source": [
    "params_model = dict(new_cases_obs = new_cases_obs,\n",
    "                    date_begin_data = date_begin_data,\n",
    "                    num_days_forecast = num_days_forecast,\n",
    "                    diff_data_sim = diff_data_sim,\n",
    "                    N_population = 83e6) \n",
    "# normally one would put as N_population an array with the number of inhabitants of \n",
    "# of each state\n",
    "\n",
    "with cov19.Cov19_Model(**params_model) as model:\n",
    "    lambda_t_log = cov19.lambda_t_with_sigmoids(pr_median_lambda_0 = 0.4,\n",
    "                                                change_points_list = change_points)\n",
    "    \n",
    "    new_I_t = cov19.SIR(lambda_t_log, pr_median_mu=1/8)\n",
    "    \n",
    "    new_cases_inferred_raw = cov19.delay_cases(new_I_t, pr_median_delay=10, \n",
    "                                               pr_median_scale_delay=0.3)\n",
    "    \n",
    "    #new_cases_inferred = cov19.week_modulation(new_cases_inferred_raw)\n",
    "    \n",
    "    cov19.student_t_likelihood(new_cases_inferred_raw)\n"
   ]
  },
  {
   "cell_type": "code",
   "execution_count": null,
   "metadata": {},
   "outputs": [],
   "source": [
    "trace = pm.sample(model=model, tune=500, draws=500)"
   ]
  },
  {
   "cell_type": "code",
   "execution_count": null,
   "metadata": {},
   "outputs": [],
   "source": [
    "plt.plot(np.median(trace.new_cases, axis=0))"
   ]
  },
  {
   "cell_type": "code",
   "execution_count": null,
   "metadata": {},
   "outputs": [],
   "source": []
  }
 ],
 "metadata": {
  "kernelspec": {
   "display_name": "Python 3",
   "language": "python",
   "name": "python3"
  },
  "language_info": {
   "codemirror_mode": {
    "name": "ipython",
    "version": 3
   },
   "file_extension": ".py",
   "mimetype": "text/x-python",
   "name": "python",
   "nbconvert_exporter": "python",
   "pygments_lexer": "ipython3",
   "version": "3.7.6"
  }
 },
 "nbformat": 4,
 "nbformat_minor": 4
}
