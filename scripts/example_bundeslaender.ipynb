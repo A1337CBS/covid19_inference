{
 "cells": [
  {
   "cell_type": "code",
   "execution_count": 3,
   "metadata": {},
   "outputs": [],
   "source": [
    "import datetime\n",
    "import time as time_module\n",
    "import sys\n",
    "import os \n",
    "\n",
    "import pandas as pd\n",
    "import numpy as np\n",
    "import matplotlib.pyplot as plt\n",
    "import scipy.stats\n",
    "import theano\n",
    "import matplotlib\n",
    "import pymc3 as pm\n",
    "import theano.tensor as tt\n",
    "\n",
    "\n",
    "\n",
    "try: \n",
    "    import covid19_inference as cov19\n",
    "except ModuleNotFoundError:\n",
    "    sys.path.append('..')\n",
    "    import covid19_inference as cov19\n",
    "%load_ext autoreload\n",
    "%autoreload 2\n"
   ]
  },
  {
   "cell_type": "code",
   "execution_count": 4,
   "metadata": {},
   "outputs": [],
   "source": [
    "#df_rki = cov19.data_retrieval.get_rki()\n",
    "import pickle\n",
    "#pickle.dump(df_rki, open('df_rki.pickled', 'wb'))\n",
    "df_rki = pickle.load(open('df_rki.pickled', 'rb'))"
   ]
  },
  {
   "cell_type": "code",
   "execution_count": 10,
   "metadata": {},
   "outputs": [],
   "source": [
    "df_bundeslaender = cov19.filter_rki_all_bundesland(df_rki, '2020-03-10', '2020-04-13')\n",
    "new_cases_obs = np.diff(np.array(df_bundeslaender),axis=0)[:,:]\n",
    "\n",
    "\n",
    "date_begin_data = datetime.datetime(2020,3,10)\n",
    "date_end_data   = datetime.datetime(2020,4,13)\n",
    "\n",
    "#date_data_end   = datetime.datetime(2020,3,28)\n",
    "num_days_data = (date_end_data-date_begin_data).days\n",
    "diff_data_sim = 16 # should be significantly larger than the expected delay, in \n",
    "                   # order to always fit the same number of data points.\n",
    "num_days_forecast = 10\n",
    "date_begin_sim = date_begin_data - datetime.timedelta(days = diff_data_sim)\n",
    "date_end_sim   = date_end_data   + datetime.timedelta(days = num_days_forecast)\n",
    "num_days_sim = (date_end_sim-date_begin_sim).days\n",
    "\n",
    "\n",
    "#print('Cases yesterday ({}): {} and '\n",
    "#      'day before yesterday: {}'.format(date_data_end.isoformat(), *cases_obs[:-3:-1]))\n",
    "\n",
    "prior_date_mild_dist_begin =  datetime.datetime(2020,3,9)\n",
    "prior_date_strong_dist_begin =  datetime.datetime(2020,3,16)\n",
    "prior_date_contact_ban_begin =  datetime.datetime(2020,3,23)\n",
    "\n",
    "change_points = [dict(pr_mean_date_transient = prior_date_mild_dist_begin,\n",
    "                      pr_sigma_date_transient = 6,\n",
    "                      pr_median_lambda = 0.2,\n",
    "                      pr_sigma_lambda = 0.5),\n",
    "                 dict(pr_mean_date_transient = prior_date_strong_dist_begin,\n",
    "                      pr_sigma_date_transient = 6,\n",
    "                      pr_median_lambda = 1/8,\n",
    "                      pr_sigma_lambda = 0.5),\n",
    "                 dict(pr_mean_date_transient = prior_date_contact_ban_begin,\n",
    "                      pr_sigma_date_transient = 6,\n",
    "                      pr_median_lambda = 1/8/2,\n",
    "                      pr_sigma_lambda = 0.5)]"
   ]
  },
  {
   "cell_type": "code",
   "execution_count": 13,
   "metadata": {},
   "outputs": [],
   "source": [
    "params_model = dict(new_cases_obs = new_cases_obs,\n",
    "                    date_begin_data = date_begin_data,\n",
    "                    num_days_forecast = num_days_forecast,\n",
    "                    diff_data_sim = diff_data_sim,\n",
    "                    N_population = 83e6)\n",
    "\n",
    "with cov19.Cov19_Model(**params_model) as model:\n",
    "    \n",
    "    lambda_t_log = cov19.lambda_t_with_sigmoids(pr_median_lambda_0 = 0.4,\n",
    "                                                change_points_list = change_points)\n",
    "    \n",
    "    new_I_t = cov19.SIR(lambda_t_log)\n",
    "    \n",
    "    new_cases_inferred = cov19.delay_cases(new_I_t)\n",
    "    \n",
    "    new_cases_inferred = cov19.week_modulation(new_cases_inferred)\n",
    "    \n",
    "    cov19.student_t_likelihood(new_cases_inferred)\n",
    "    \n",
    "    \n",
    "    \n",
    "    "
   ]
  },
  {
   "cell_type": "code",
   "execution_count": null,
   "metadata": {},
   "outputs": [
    {
     "name": "stderr",
     "output_type": "stream",
     "text": [
      "Auto-assigning NUTS sampler...\n",
      "Initializing NUTS using jitter+adapt_diag...\n",
      "Multiprocess sampling (2 chains in 2 jobs)\n",
      "NUTS: [sigma_obs, offset_modulation_rad, weekend_factor_L2, weekend_factor_L1, sigma_weekend_factor_L2, scale_delay_L2, scale_delay_L1, sigma_scale_delay_L2, delay_L2, delay_L1, sigma_delay_L2, I_begin, mu, transient_len_3_L2, transient_len_3_L1, sigma_transient_len_3_L2, transient_len_2_L2, transient_len_2_L1, sigma_transient_len_2_L2, transient_len_1_L2, transient_len_1_L1, sigma_transient_len_1_L2, transient_day_3_L2, transient_day_3_L1, sigma_transient_day_3_L2, transient_day_2_L2, transient_day_2_L1, sigma_transient_day_2_L2, transient_day_1_L2, transient_day_1_L1, sigma_transient_day_1_L2, lambda_3_L2, lambda_3_L1, sigma_lambda_3_L2, lambda_2_L2, lambda_2_L1, sigma_lambda_2_L2, lambda_1_L2, lambda_1_L1, sigma_lambda_1_L2, lambda_0_L2_L2, lambda_0_L2_L1, sigma_lambda_0_L2_L2]\n",
      "Sampling 2 chains:  23%|██▎       | 461/2000 [05:23<47:31,  1.85s/draws]  "
     ]
    }
   ],
   "source": [
    "trace = pm.sample(model = model)"
   ]
  },
  {
   "cell_type": "code",
   "execution_count": null,
   "metadata": {},
   "outputs": [],
   "source": []
  }
 ],
 "metadata": {
  "kernelspec": {
   "display_name": "Python 3",
   "language": "python",
   "name": "python3"
  },
  "language_info": {
   "codemirror_mode": {
    "name": "ipython",
    "version": 3
   },
   "file_extension": ".py",
   "mimetype": "text/x-python",
   "name": "python",
   "nbconvert_exporter": "python",
   "pygments_lexer": "ipython3",
   "version": "3.7.5"
  }
 },
 "nbformat": 4,
 "nbformat_minor": 4
}
